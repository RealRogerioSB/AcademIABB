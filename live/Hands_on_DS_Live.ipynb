{
 "metadata": {
  "kernelspec": {
   "name": "python3",
   "display_name": "Python 3 (ipykernel)",
   "language": "python"
  },
  "language_info": {
   "codemirror_mode": {
    "name": "python",
    "version": 3
   },
   "file_extension": ".py",
   "mimetype": "text/x-python",
   "name": "python",
   "nbconvert_exporter": "python",
   "pygments_lexer": "ipython3",
   "version": "3.8"
  },
  "colab": {
   "provenance": []
  }
 },
 "nbformat_minor": 5,
 "nbformat": 4,
 "cells": [
  {
   "id": "1a92beb8-0a2d-4eb9-ab07-79072bd47eef",
   "cell_type": "code",
   "source": "import warnings\n\n# Ignore all warnings\nwarnings.filterwarnings(\"ignore\")",
   "metadata": {
    "trusted": true
   },
   "outputs": [],
   "execution_count": null
  },
  {
   "id": "78e618d2-30bf-40a1-856e-1c213ef3bd19",
   "cell_type": "markdown",
   "source": [
    "# AcademIA BB - Ciência de Dados\n",
    "\n",
    "Bem-vindos e bem-vindas à AcademIA BB! Esse material faz parte do eixo de Ciência de Dados e contém o conteúdo que será desenvolvido nas Lives.\n",
    "\n",
    "O conteúdo é baseado em uma premissa \"mãos na massa\", então os conceitos serão explicados à medida que são apresentados por meio do código.\n",
    "\n",
    "Projetos de ciências de dados seguem alguns passos, vamos dividir os nossos em 8:\n",
    "\n",
    "1. Investigar o quadro geral\n",
    "2. Obter os dados.\n",
    "3. Descobrir e visualizar os dados para obter insights.\n",
    "4. Preparar os dados para algoritmos de Aprendizado de Máquina.\n",
    "5. Selecionar um modelo e treina-lo.\n",
    "6. Ajustar o modelo.\n",
    "7. Apresentar a sua solução.\n",
    "8. Lançar, monitorar e manter seu sistema.\n",
    "\n",
    "No primeiro passo, é aferida a disponibilidade dos dados que são importantes para o problema. No nosso caso, vamos estudar um problema de rotatividade de clientes do cartão de crédito. Esses dados devem ser obtidos e importados para nosso ambiente de desenvolvimento para que possamos acessá-lo pelo Python.\n",
    "\n",
    "\n",
    "## Caso de Estudo\n",
    "\n",
    "Um gerente do banco está incomodado com o fato de cada vez mais clientes abandonarem os serviços de cartão de crédito. Eles realmente apreciariam se alguém pudesse prever quem será desligado, para que possam ir proativamente ao cliente para fornecer-lhes melhores serviços e direcionar as decisões dos clientes na direção oposta.\n",
    "\n",
    "No nosso exemplo, os clientes estão abandonando os serviços de cartão de crédito e queremos buscar hipóteses que expliquem esse comportamento. Para entender e explorar esse comportamento, vamos analisar os dados dos clientes que abandonaram ou não o serviço. Esses dados podem ou não conter insights sobre a evasão do serviço, mas para aferir essa situação, precisamos primeiro entender quais dados estão disponíveis e como eles poderiam afetar a decisão de evadir ou não.\n",
    "\n",
    "Os dados dos clientes serão disponibilizados e passaremos para o próximo passo, que é importar os dados para nosso ambiente de desenvolvimento."
   ],
   "metadata": {
    "id": "78e618d2-30bf-40a1-856e-1c213ef3bd19"
   }
  },
  {
   "id": "83ea409d-1829-47d4-ab3e-3e9576758fbd",
   "cell_type": "markdown",
   "source": [
    "### Importando dados\n",
    "\n",
    "Temos um conjunto de dados que possui várias informações dos clientes. Esses dados nos foram disponibilizados através de um arquivo CSV, ou seja, os dados estão no formato de texto separado por vírgulas.\n",
    "\n",
    "Esse tipo de arquivo possui dados estruturados em linhas e colunas, o que é muito comum e considerado padrão na ciência de dados. A primeira linha de nosso arquivo de texto possuirá o nome de cada uma de nossas colunas, separados por vírgulas. Todas as outras linhas são consideradas \"observações\", ou seja, valores para cada coluna de nosso conjunto. Uma linha possui, portanto, um valor por coluna e o número de valores de cada linha deve corresponder ao número de colunas.\n",
    "\n",
    "Esse arquivo possui os dados, mas nosso ambiente de desenvolvimento Python ainda não tem acesso a eles. Vamos então importar os dados para nosso ambiente.\n"
   ],
   "metadata": {
    "id": "83ea409d-1829-47d4-ab3e-3e9576758fbd"
   }
  },
  {
   "id": "09293292-0bbb-4ae8-b84e-7744fdb1c3de",
   "cell_type": "code",
   "source": [
    "import pandas as pd\n",
    "\n",
    "df = pd.read_csv(\"bases/ds_dataset_002.csv\", sep=\";\")"
   ],
   "metadata": {
    "id": "09293292-0bbb-4ae8-b84e-7744fdb1c3de",
    "trusted": true
   },
   "outputs": [],
   "execution_count": null
  },
  {
   "id": "996e5c70-de78-4509-bd8f-d1103b0af632",
   "cell_type": "markdown",
   "source": "### Observando os valores de nosso DataFrame\n\nPercebemos que mesmo depois de executar a célula acima, os valores de nosso conjunto de dados não aparecem na tela. Isso por que apenas importamos o conjunto de dados para nosso ambiente de desenvolvimento mas ainda não os escrevemos na tela.\n\nConjuntos de dados costumam ter centenas senão centenas de milhares ou até milhões de linhas. Não se costuma, portanto, visualizar todos os valores de um conjunto de dados e sim apenas algumas linhas.",
   "metadata": {
    "id": "996e5c70-de78-4509-bd8f-d1103b0af632"
   }
  },
  {
   "id": "ed0fe4a7-b09d-4d5f-b9ed-451d3bf4bd13",
   "cell_type": "code",
   "source": "df.head(5)",
   "metadata": {
    "colab": {
     "base_uri": "https://localhost:8080/",
     "height": 206
    },
    "id": "ed0fe4a7-b09d-4d5f-b9ed-451d3bf4bd13",
    "outputId": "75846907-6dc7-4064-df64-b9643e5ce79d",
    "trusted": true
   },
   "outputs": [],
   "execution_count": null
  },
  {
   "id": "2f9149ab-c12e-4329-9eec-d239cf7626d4",
   "cell_type": "markdown",
   "source": "## Descrevendo um conjunto de dados",
   "metadata": {
    "tags": []
   }
  },
  {
   "id": "c8441dd6-70e7-4077-b51c-f0127ef3f7b4",
   "cell_type": "markdown",
   "source": [
    "Conjuntos de dados possuem diversas informações que podem descrevê-los. A análise realizada para descrever o conjunto de dados é chamada \"Análise Descritiva\". Essa análise busca descrever o conjunto a partir do que chamamos de \"medidas resumo\" que, como o nome diz, resumem e sintetizam informações sobre o conjunto inteiro. Por exemplo, a partir de uma lista de idades é possível obter o valor médio das idades, que corresponde à soma de todas os valores dividida pelo número total de observações. Algumas informações sobre o conjunto podem ser obtidas facilmente a partir da observação simples do conjunto, como\n",
    "- Número de observações\n",
    "- Tipo de dados\n",
    "    - Quantitativos\n",
    "    - Qualitativos\n",
    "- Valores mínimos e máximos\n",
    "- Ordenação dos valores"
   ],
   "metadata": {
    "id": "c8441dd6-70e7-4077-b51c-f0127ef3f7b4"
   }
  },
  {
   "id": "3b74aa10-91e1-4494-8d9f-2bcb7ddf75aa",
   "cell_type": "markdown",
   "source": "Para acessar uma coluna do nosso DataFrame, utiliza-se o colchete `[]` com o nome da coluna desejada. É possível selecionar mais de uma coluna utilizando dois colchetes `[[]]`, como no exemplo abaixo.",
   "metadata": {
    "id": "3b74aa10-91e1-4494-8d9f-2bcb7ddf75aa"
   }
  },
  {
   "id": "4fb9d5ca-f969-4add-9b85-bd3a137d3442",
   "cell_type": "code",
   "source": "df[\"Indicador\"]",
   "metadata": {
    "colab": {
     "base_uri": "https://localhost:8080/",
     "height": 458
    },
    "id": "4fb9d5ca-f969-4add-9b85-bd3a137d3442",
    "outputId": "43eabfba-82b2-4397-fb80-f2f717931aad",
    "trusted": true
   },
   "outputs": [],
   "execution_count": null
  },
  {
   "id": "6d4feeb3-2648-4c5d-adc3-bba816c200ea",
   "cell_type": "code",
   "source": "df[[\"Indicador\", \"Genero\"]]",
   "metadata": {
    "colab": {
     "base_uri": "https://localhost:8080/",
     "height": 424
    },
    "id": "6d4feeb3-2648-4c5d-adc3-bba816c200ea",
    "outputId": "18acad63-832e-4b14-e803-25a4f0452512",
    "trusted": true
   },
   "outputs": [],
   "execution_count": null
  },
  {
   "id": "303ea290-99ff-4cd3-a75a-6585a4f40693",
   "cell_type": "code",
   "source": "df[\"Idade\"][:10]  # para selecionar linhas, utilize um segundo par de colchetes",
   "metadata": {
    "colab": {
     "base_uri": "https://localhost:8080/",
     "height": 398
    },
    "id": "303ea290-99ff-4cd3-a75a-6585a4f40693",
    "outputId": "caf8caa2-a6c6-40c1-e91c-b92eb098f079",
    "trusted": true
   },
   "outputs": [],
   "execution_count": null
  },
  {
   "id": "6f87a12f-a0f7-4339-8285-91fc70f78d5d",
   "cell_type": "code",
   "source": "df[[\"Indicador\", \"Genero\"]][:10]  # também funciona para mais de uma coluna",
   "metadata": {
    "colab": {
     "base_uri": "https://localhost:8080/",
     "height": 363
    },
    "id": "6f87a12f-a0f7-4339-8285-91fc70f78d5d",
    "outputId": "7082c580-009d-4232-b871-cfb20b68e303",
    "trusted": true
   },
   "outputs": [],
   "execution_count": null
  },
  {
   "id": "6473938a-df34-4637-97ca-0c5ac8148a51",
   "cell_type": "markdown",
   "source": [
    "### Função `info()`\n",
    "\n",
    "\n",
    "Muitas informações importantes dos nossos dados podem ser obtidas através da função `info()`. Para executar a função, após o nome da sua variável que contém os dados, escreva `.info()` e execute a célula, como no exemplo a seguir. A saída conterá informações sobre o conjunto de dados como número de linhas, colunas, valores nulos e os tipos de dados de cada coluna.\n",
    "\n",
    "Essa é uma função muito útil para ter uma visão geral de nosso conjunto de dados e escolher quais passos seguir na sua análise."
   ],
   "metadata": {
    "id": "6473938a-df34-4637-97ca-0c5ac8148a51"
   }
  },
  {
   "id": "07287d5a-6b90-4202-a330-4e2cd7fa30bd",
   "cell_type": "code",
   "source": "df.info()",
   "metadata": {
    "colab": {
     "base_uri": "https://localhost:8080/"
    },
    "id": "07287d5a-6b90-4202-a330-4e2cd7fa30bd",
    "outputId": "22f85bc7-2443-41b5-ba22-1bf4dd489531",
    "trusted": true
   },
   "outputs": [],
   "execution_count": null
  },
  {
   "id": "dbb41159-3342-450e-b9d7-abddbd3c23f8",
   "cell_type": "markdown",
   "source": [
    "### Função `describe()`\n",
    "\n",
    "A função `describe()` possui um objetivo semelhante, com a diferença que ele irá retornar informações de estatística descritiva das colunas numéricas de nosso conjunto de dados.\n",
    "\n",
    "As estatísticas obtidas são:\n",
    "- count : Contagem\n",
    "\n",
    "É o número de observações daquela variável. Ou seja, é o número de linhas que possuem valores válidos para aquela coluna. Caso em certas linhas os valores para aquela coluna sejam nulos, por exemplo, esses valores não serão contados.\n",
    "\n",
    "- mean : Média\n",
    "\n",
    "É a média aritmética dos valores válidos da coluna. A média aritmética é obtida a partir da soma de todos os valores observados dividida pelo número de observações.\n",
    "\n",
    "- std - Desvio-Padrão\n",
    "\n",
    "O desvio-padrão é uma medida de distribuição que mede quanto cada observação se distancia da média. Ele nos dá informações sobre a distribuição de valores das nossas observações. Quanto maior o valor do desvio-padrão, maior a variação dos valores observados com relação a média.\n",
    "\n",
    "- min e max - Mínimo e Máximo\n",
    "\n",
    "Esses são os valores mínimo e máximo para a coluna observada.\n",
    "\n",
    "- Mediana\n",
    "\n",
    "A mediana é uma medida de posição que corresponde ao valor que esteja localizado na metade da lista ordenada dos valores observados. Essa medida é útil pois ela reduz a influência de valores extremos, chamados de __outliers__.\n",
    "\n",
    "No caso da saída de nossa função `describe()`, a mediana é apresentada a partir de seus \"quartis\", que são as posições relativas na lista ordenada de valores de nossas observações.\n",
    "\n",
    "O primeiro quartil corresponde ao valor apresentado como \"25%\" e ele apresenta o valor central entre o menor e metade da lista ordenada. Por definição, indica que até seu valor, 25% dos dados estarão incluídos. Isso também indica que apenas 25% dos valores é inferior ao primeiro quartil.\n",
    "\n",
    "O segundo quartil corresponde à mediana e é o valor que se encontra na posição central da lista ordenada de valores. Indica também que 50% dos valores é inferior ao valor da mediana.\n",
    "\n",
    "O terceiro quartil é o valor que se encontra na posição 75% da lista ordenada de valores."
   ],
   "metadata": {
    "id": "dbb41159-3342-450e-b9d7-abddbd3c23f8"
   }
  },
  {
   "id": "75a4418c-cc3e-4200-b4a7-ffeaf3d4ec9e",
   "cell_type": "code",
   "source": "df.describe()",
   "metadata": {
    "colab": {
     "base_uri": "https://localhost:8080/",
     "height": 300
    },
    "id": "75a4418c-cc3e-4200-b4a7-ffeaf3d4ec9e",
    "outputId": "490474c9-7d71-4f75-fcde-4f8fb4ed4ece",
    "trusted": true
   },
   "outputs": [],
   "execution_count": null
  },
  {
   "id": "6b35a7fd-0eaa-4578-8c1b-6a9aceae6a2e",
   "cell_type": "markdown",
   "source": "### Funções de Estatística Descritiva\n\nDataFrames são variáveis muito úteis para a análise descritiva de um conjunto de dados pois possuem funções para a obtenção de valores de forma simples.\n\nPara obter o número total de linhas de nosso conjunto, podemos utilizar a função `len()` ou a variável `shape` de nosso DataFrame.",
   "metadata": {
    "id": "6b35a7fd-0eaa-4578-8c1b-6a9aceae6a2e"
   }
  },
  {
   "id": "f6f1d647-2a6f-4a3b-9cfb-a393cc3e61aa",
   "cell_type": "code",
   "source": "len(df)",
   "metadata": {
    "colab": {
     "base_uri": "https://localhost:8080/"
    },
    "id": "f6f1d647-2a6f-4a3b-9cfb-a393cc3e61aa",
    "outputId": "eeead0de-03a4-41cf-db0a-032bc31f32b5",
    "trusted": true
   },
   "outputs": [],
   "execution_count": null
  },
  {
   "id": "056ea7da-ae3b-4a98-a690-3afbf043ad6d",
   "cell_type": "code",
   "source": "df.shape",
   "metadata": {
    "colab": {
     "base_uri": "https://localhost:8080/"
    },
    "id": "056ea7da-ae3b-4a98-a690-3afbf043ad6d",
    "outputId": "9a6a0212-b46b-4203-af5e-8c3f25bcb67a",
    "trusted": true
   },
   "outputs": [],
   "execution_count": null
  },
  {
   "id": "8a5f1f0e-9b51-4661-920f-d782b3150b23",
   "cell_type": "markdown",
   "source": "Para obter o máximo e mínimo de uma coluna ou de todas as colunas, basta utilizar as funções `max()` e `min()`.",
   "metadata": {
    "id": "8a5f1f0e-9b51-4661-920f-d782b3150b23"
   }
  },
  {
   "id": "48b80d5a-b92d-4646-b148-dfc36897d207",
   "cell_type": "code",
   "source": "df[\"Idade\"].max()",
   "metadata": {
    "colab": {
     "base_uri": "https://localhost:8080/"
    },
    "id": "48b80d5a-b92d-4646-b148-dfc36897d207",
    "outputId": "fe6e5450-b701-43e5-97e8-6188351f59ce",
    "trusted": true
   },
   "outputs": [],
   "execution_count": null
  },
  {
   "id": "4329e319-7fe7-4579-b079-66b2312382a0",
   "cell_type": "markdown",
   "source": "### Distribuição de Valores\n\nOs valores observados podem estar distribuídos de forma diferente. Temos uma função chamada `value_counts()` que mostra o número de observações para cada valor na coluna observada. Vamos aplicar essa função na nossa coluna de Indicador, assim vamos saber quantas pessoas evadiram nosso serviço de cartão de crédito.",
   "metadata": {
    "id": "4329e319-7fe7-4579-b079-66b2312382a0"
   }
  },
  {
   "id": "166d8f62-c37b-42b5-b4ea-16be9620d535",
   "cell_type": "code",
   "source": "df[\"Indicador\"].value_counts()",
   "metadata": {
    "colab": {
     "base_uri": "https://localhost:8080/",
     "height": 178
    },
    "id": "166d8f62-c37b-42b5-b4ea-16be9620d535",
    "outputId": "a56b0307-45a5-4675-feb3-57f4f1441b95",
    "trusted": true
   },
   "outputs": [],
   "execution_count": null
  },
  {
   "id": "b9fa1f39-69f1-414e-991b-3c52b0444913",
   "cell_type": "code",
   "source": "df[\"Cartao\"].value_counts(normalize=True)  # exemplo com o normalize",
   "metadata": {
    "colab": {
     "base_uri": "https://localhost:8080/",
     "height": 241
    },
    "id": "b9fa1f39-69f1-414e-991b-3c52b0444913",
    "outputId": "bc90ceb1-c93d-42a6-d9e0-5c65b99735d7",
    "trusted": true
   },
   "outputs": [],
   "execution_count": null
  },
  {
   "id": "6a76b832-dd8c-43a6-9051-de0afef11629",
   "cell_type": "markdown",
   "source": "# Live 2",
   "metadata": {}
  },
  {
   "id": "fb26cc33-7540-454a-8cb7-71d72534cdda",
   "cell_type": "markdown",
   "source": "* Relembrando a base de dados da Live 1",
   "metadata": {}
  },
  {
   "id": "2f5cb27f-babd-4fed-91b8-60349a239a08",
   "cell_type": "code",
   "source": "df",
   "metadata": {
    "trusted": true
   },
   "outputs": [],
   "execution_count": null
  },
  {
   "id": "d30854dc-5fcb-45c5-8611-1f3c6d61c2e9",
   "cell_type": "markdown",
   "source": "* Percebemos que 2 colunas possuem valores nulos",
   "metadata": {}
  },
  {
   "id": "81424aa1-2c12-457a-86c5-b001039ed38e",
   "cell_type": "code",
   "source": "df.info()",
   "metadata": {
    "trusted": true
   },
   "outputs": [],
   "execution_count": null
  },
  {
   "id": "39543eed-aac6-47af-9e5e-1579995293cd",
   "cell_type": "markdown",
   "source": "## Tratamento de Nulos",
   "metadata": {}
  },
  {
   "id": "68ce8d76-5052-43f8-9da3-f1583e43fea6",
   "cell_type": "code",
   "source": [
    "# Live 2\n",
    "percent_nulos = round(df.isnull().sum() / len(df), 3) * 100\n",
    "df2 = pd.DataFrame(percent_nulos).reset_index()\n",
    "df2.columns = [\"Atributo\", \"Percentual\"]\n",
    "df2.sort_values(by=\"Percentual\", ascending=False)"
   ],
   "metadata": {
    "colab": {
     "base_uri": "https://localhost:8080/",
     "height": 332
    },
    "id": "68ce8d76-5052-43f8-9da3-f1583e43fea6",
    "outputId": "fdfa982e-a390-40be-e2f6-47d7848cdb4e",
    "trusted": true
   },
   "outputs": [],
   "execution_count": null
  },
  {
   "id": "84043a50-ed37-447f-9aff-cbd33cfc8812",
   "cell_type": "markdown",
   "source": [
    "### Formas do tratamento de nulos:\n",
    "- deletar os registros cujo valor é nulo\n",
    "- preencher com aquele de maior frequência/ mediana/ média\n",
    "- preencher baseado em outra coluna\n",
    "- Métodos de imputação: https://scikit-learn.org/stable/api/sklearn.impute.html\n",
    "- preencher como \"Desconhecido\" (variáveis categóricas)\n",
    "- ..."
   ],
   "metadata": {
    "tags": []
   }
  },
  {
   "id": "a2ed6bee-ac85-4383-b384-b5fa69d506b0",
   "cell_type": "markdown",
   "source": "* Vamos retirar da nossa base os registros cuja renda não é conhecida (null)",
   "metadata": {}
  },
  {
   "id": "14326ff5-16e8-465b-80bb-dd0df559214f",
   "cell_type": "code",
   "source": [
    "# isna identifica os valores ausentes, logo, true indica valor ausente e false indica valor não ausente\n",
    "# nesse exemplo vamos filtrar os valores não ausentes, ou seja, onde isna é falso para o atributo renda\n",
    "df3 = df[df[\"Renda\"].isna() == False]"
   ],
   "metadata": {
    "id": "14326ff5-16e8-465b-80bb-dd0df559214f",
    "trusted": true
   },
   "outputs": [],
   "execution_count": null
  },
  {
   "id": "0f1dc2b2-0651-4b1c-bec4-d05435dec6b7",
   "cell_type": "code",
   "source": "df[\"Renda\"].isna()",
   "metadata": {
    "trusted": true
   },
   "outputs": [],
   "execution_count": null
  },
  {
   "id": "174bdbe3-76fb-410a-badf-787509e72656",
   "cell_type": "code",
   "source": [
    "percent_nulos = round(df3.isnull().sum() / len(df3), 3) * 100\n",
    "df2 = pd.DataFrame(percent_nulos).reset_index()\n",
    "df2.columns = [\"Atributo\", \"Percentual\"]\n",
    "df2.sort_values(by=\"Percentual\", ascending=False)"
   ],
   "metadata": {
    "colab": {
     "base_uri": "https://localhost:8080/",
     "height": 332
    },
    "id": "174bdbe3-76fb-410a-badf-787509e72656",
    "outputId": "57d13919-b640-4930-987b-e7bca0e0f1a1",
    "trusted": true
   },
   "outputs": [],
   "execution_count": null
  },
  {
   "id": "cbc3ccc9-f309-440e-8872-5a07bfbe8578",
   "cell_type": "code",
   "source": "df3.info()",
   "metadata": {
    "colab": {
     "base_uri": "https://localhost:8080/"
    },
    "id": "cbc3ccc9-f309-440e-8872-5a07bfbe8578",
    "outputId": "a6c176af-5116-4022-9bf1-8fafb589e9f9",
    "trusted": true
   },
   "outputs": [],
   "execution_count": null
  },
  {
   "id": "284a9a94-d2ad-4666-8cfa-d18b214aa1e9",
   "cell_type": "code",
   "source": [
    "# dropna remove os valores ausentes\n",
    "df3 = df3.dropna()\n",
    "df3.info()"
   ],
   "metadata": {
    "colab": {
     "base_uri": "https://localhost:8080/"
    },
    "id": "284a9a94-d2ad-4666-8cfa-d18b214aa1e9",
    "outputId": "e428c72b-c582-422d-b0f7-4d622ca24e2e",
    "trusted": true
   },
   "outputs": [],
   "execution_count": null
  },
  {
   "id": "7b5b3139-aa11-473f-9001-afc681d6188b",
   "cell_type": "markdown",
   "source": "## Visualizando os dados",
   "metadata": {}
  },
  {
   "id": "b69717ba-4b34-4b03-be4f-aeb60bdc3e87",
   "cell_type": "markdown",
   "source": "### Variáveis Numéricas",
   "metadata": {}
  },
  {
   "id": "f9447307-3abf-4d86-a451-1b104abec00e",
   "cell_type": "code",
   "source": [
    "#importar seaborn e matplotlib - Seaborn e Matplotlib são amplamente utilizadas para visualização de dados em Python\n",
    "import seaborn as sns\n",
    "import matplotlib.pyplot as plt\n",
    "\n",
    "sns.histplot(df3, x=\"Limite_Credito\")\n",
    "plt.show()"
   ],
   "metadata": {
    "trusted": true
   },
   "outputs": [],
   "execution_count": null
  },
  {
   "id": "4c058d3d-aa33-4ae3-aa4a-017d38c9b4a4",
   "cell_type": "markdown",
   "source": "* Modificando o tamanho do gráfico",
   "metadata": {}
  },
  {
   "id": "6f464f51-c60f-4e52-8436-fef94d43518c",
   "cell_type": "code",
   "source": [
    "plt.figure(figsize=(15, 5))\n",
    "sns.histplot(df3, x=\"Limite_Credito\")\n",
    "plt.show()"
   ],
   "metadata": {
    "trusted": true
   },
   "outputs": [],
   "execution_count": null
  },
  {
   "id": "b731a289-8f93-4d69-b35e-703940011789",
   "cell_type": "code",
   "source": [
    "sns.histplot(df3[\"Dependentes\"])\n",
    "plt.show()"
   ],
   "metadata": {
    "trusted": true
   },
   "outputs": [],
   "execution_count": null
  },
  {
   "id": "8d19f18c-236b-4acc-bb6b-f246c1115b29",
   "cell_type": "code",
   "source": [
    "plt.figure(figsize=(15, 5))\n",
    "sns.histplot(df3[\"Idade\"])\n",
    "plt.show()\n",
    "\n",
    "# O histplot do Seaborn é uma função utilizada para criar histogramas, que são gráficos de barras que mostram a distribuição de um conjunto de dados.\n",
    "# Ele é muito útil para visualizar a frequência de valores em diferentes intervalos (bins) e entender a distribuição de uma variável contínua"
   ],
   "metadata": {
    "colab": {
     "base_uri": "https://localhost:8080/",
     "height": 453
    },
    "id": "8d19f18c-236b-4acc-bb6b-f246c1115b29",
    "outputId": "96a6af0d-0e18-4262-b345-bed3b6ea5229",
    "trusted": true
   },
   "outputs": [],
   "execution_count": null
  },
  {
   "id": "GZkYL9evAngK",
   "cell_type": "code",
   "source": [
    "#gerar boxplot da idade\n",
    "plt.figure(figsize=(15, 5))\n",
    "sns.boxplot(x=df3[\"Idade\"])\n",
    "plt.show()\n",
    "\n",
    "# Um boxplot, também conhecido como gráfico de caixa, é uma ferramenta gráfica usada para visualizar a distribuição de um conjunto de dados.\n",
    "# Ele mostra a mediana, os quartis (Q1 e Q3), e os valores mínimo e máximo, além de possíveis outliers.\n",
    "# A “caixa” central representa o intervalo interquartil (IQR), que é a faixa entre o primeiro e o terceiro quartil, enquanto as “linhas” (ou whiskers) se estendem até os valores mínimo e\n",
    "# máximo dentro de 1,5 vezes o IQR. Outliers são plotados como pontos individuais fora dessas linhas.\n",
    "# O boxplot serve para identificar a dispersão, a simetria e a presença de outliers em um conjunto de dados, facilitando comparações entre diferentes grupos ou distribuições."
   ],
   "metadata": {
    "colab": {
     "base_uri": "https://localhost:8080/",
     "height": 449
    },
    "id": "GZkYL9evAngK",
    "outputId": "9197d30a-b02f-4fe4-a1ff-1a90cef32de1",
    "trusted": true
   },
   "outputs": [],
   "execution_count": null
  },
  {
   "id": "a893f266-b177-4241-a788-9f4c5623462f",
   "cell_type": "markdown",
   "source": "### Variáveis categóricas",
   "metadata": {}
  },
  {
   "id": "f97fdad5-49dd-4ea1-ae96-6e22328e184e",
   "cell_type": "code",
   "source": "df3.Cartao.unique()",
   "metadata": {
    "trusted": true
   },
   "outputs": [],
   "execution_count": null
  },
  {
   "id": "7abca7a4-d4ee-4f62-aba6-73095388ac6e",
   "cell_type": "code",
   "source": "df3.Estado_Civil.unique()",
   "metadata": {
    "trusted": true
   },
   "outputs": [],
   "execution_count": null
  },
  {
   "id": "7809fb5e-bb37-4941-8661-4f3bbc794fc4",
   "cell_type": "code",
   "source": "df3.Renda.unique()",
   "metadata": {
    "trusted": true
   },
   "outputs": [],
   "execution_count": null
  },
  {
   "id": "8d21c5b1-8bce-4a94-be20-7e378e022400",
   "cell_type": "code",
   "source": "df3.Escolaridade.unique()",
   "metadata": {
    "trusted": true
   },
   "outputs": [],
   "execution_count": null
  },
  {
   "id": "cc185f09-1b72-49a5-b6d8-f47832f86b4c",
   "cell_type": "code",
   "source": [
    "possiveis_Education = pd.CategoricalDtype([\"Sem Escolaridade\", \"Desconhecido\", \"Ensino Médio Completo\", \"Ensino Superior Completo\", \"Pós-Graduação\", \"Mestrado\", \"Doutorado\"], ordered=True)\n",
    "possiveis_Marital_Status = pd.CategoricalDtype(df3.Estado_Civil.unique())\n",
    "possiveis_Renda = pd.CategoricalDtype([\"Menos de 40 Mil\", \"De 40 Mil a 60 Mil\", \"De 60 Mil a 80 Mil\", \"De 80 Mil a 120 Mil\", \"Mais de 120 Mil\"], ordered=True)\n",
    "possiveis_cartao = pd.CategoricalDtype([\"Blue\", \"Silver\", \"Gold\", \"Platinum\"], ordered=True)\n",
    "possiveis_gender = pd.CategoricalDtype(df3.Genero.unique())\n",
    "\n",
    "possiveis_Education"
   ],
   "metadata": {
    "trusted": true
   },
   "outputs": [],
   "execution_count": null
  },
  {
   "id": "4bda8a1e-97b3-4d26-9114-9f798fbc7058",
   "cell_type": "code",
   "source": [
    "df3.loc[:, \"Escolaridade\"] = df3.Escolaridade.astype(possiveis_Education)\n",
    "df3.loc[:, \"Estado_Civil\"] = df3.Estado_Civil.astype(possiveis_Marital_Status)\n",
    "df3.loc[:, \"Renda\"] = df3.Renda.astype(possiveis_Renda)\n",
    "df3.loc[:, \"Cartao\"] = df3.Cartao.astype(possiveis_cartao)\n",
    "df3.loc[:, \"Genero\"] = df3.Genero.astype(possiveis_gender)"
   ],
   "metadata": {
    "trusted": true
   },
   "outputs": [],
   "execution_count": null
  },
  {
   "id": "887b159f-9cd9-4679-a797-cf3774b2b256",
   "cell_type": "markdown",
   "source": "#### Cartão",
   "metadata": {}
  },
  {
   "id": "91e3929f-6922-4c0b-8324-e9aa43e64721",
   "cell_type": "code",
   "source": [
    "media_limite_cartao = df3.groupby(\"Cartao\")[\"Limite_Credito\"].mean()\n",
    "\n",
    "plt.figure(figsize=(10, 5))\n",
    "\n",
    "# Define uma paleta de cores para as categorias\n",
    "palette = sns.color_palette(\"husl\", len(media_limite_cartao))\n",
    "\n",
    "sns.barplot(x=media_limite_cartao.index, y=media_limite_cartao.values,palette=palette)\n",
    "\n",
    "plt.title(\"Limite de Crédito por cada categoria de cartão\", fontsize=14)\n",
    "plt.xlabel(\"Categoria do Cartão\", fontsize=14)\n",
    "plt.ylabel(\"Média do Limite de Crédito\")\n",
    "plt.show()"
   ],
   "metadata": {
    "trusted": true
   },
   "outputs": [],
   "execution_count": null
  },
  {
   "id": "682bd879-7c99-4dca-9166-736262b587d1",
   "cell_type": "code",
   "source": [
    "plt.figure(figsize=(8, 6))\n",
    "sns.countplot(x=\"Cartao\",data=df3,palette = palette)\n",
    "plt.title(\"Distribuição de Cartão\")\n",
    "plt.xlabel(\"Cartão\")\n",
    "plt.ylabel(\"Contagem\")\n",
    "plt.show()"
   ],
   "metadata": {
    "trusted": true
   },
   "outputs": [],
   "execution_count": null
  },
  {
   "id": "38eb98e0-9d43-4305-bd60-a48526c70bc0",
   "cell_type": "markdown",
   "source": "Nesse caso, como o tipo de cartão Blue é muito maior que os outros, pode não fazer sentido para o modelo passar uma variável com muito mais dados. Dessa forma, vamos transformar essa variável em Cartão Blue e Outros.",
   "metadata": {}
  },
  {
   "id": "HWMX322xAnuO",
   "cell_type": "code",
   "source": [
    "#nova variável usando numpy\n",
    "import numpy as np\n",
    "\n",
    "df3[\"Cartao_Num\"] = np.where(df3[\"Cartao\"].eq(\"Blue\"), 1, 0)\n",
    "df3.Cartao_Num.value_counts()"
   ],
   "metadata": {
    "colab": {
     "base_uri": "https://localhost:8080/",
     "height": 178
    },
    "id": "HWMX322xAnuO",
    "outputId": "4cf4fdba-f3f2-4b91-acd6-dd8351905f17",
    "trusted": true
   },
   "outputs": [],
   "execution_count": null
  },
  {
   "id": "49b440e3-06a6-4657-b38c-baf17e56ba1d",
   "cell_type": "code",
   "source": [
    "plt.figure(figsize=(8, 6))\n",
    "sns.countplot(x=\"Cartao_Num\", data=df3)\n",
    "plt.title(\"Distribuição de Cartão\")\n",
    "plt.xlabel(\"Cartão\")\n",
    "plt.ylabel(\"Contagem\")\n",
    "plt.show()"
   ],
   "metadata": {
    "trusted": true
   },
   "outputs": [],
   "execution_count": null
  },
  {
   "id": "3ef0c540-1655-4079-b8c0-c024a1f6bb8e",
   "cell_type": "markdown",
   "source": "#### Gênero",
   "metadata": {}
  },
  {
   "id": "CpYvJdNkAnib",
   "cell_type": "code",
   "source": [
    "#gerar gráfico de gênero e indicador\n",
    "\n",
    "plt.figure(figsize=(8, 6))\n",
    "sns.countplot(x=\"Genero\", hue=\"Indicador\", data=df3)\n",
    "plt.title(\"Distribuição de Gênero por Indicador de Evasão\")\n",
    "plt.xlabel(\"Gênero\")\n",
    "plt.ylabel(\"Contagem\")\n",
    "plt.show()\n",
    "\n",
    "# O countplot do Seaborn é um tipo de gráfico de barras que mostra a contagem de observações em cada categoria de uma variável categórica.\n",
    "# Ele serve para visualizar a distribuição de frequências de diferentes categorias em um conjunto de dados.\n",
    "# Cada barra no gráfico representa uma categoria e sua altura corresponde ao número de ocorrências dessa categoria.\n",
    "# O countplot é frequentemente usado para análises exploratórias de dados, permitindo identificar rapidamente quais categorias são mais ou menos frequentes.\n",
    "# Além disso, ele pode ser facilmente customizado com cores, rótulos e outras propriedades para melhorar a clareza e a estética da visualização."
   ],
   "metadata": {
    "colab": {
     "base_uri": "https://localhost:8080/",
     "height": 565
    },
    "id": "CpYvJdNkAnib",
    "outputId": "3518488e-3ad5-4695-ad70-2020ccbfe120",
    "trusted": true
   },
   "outputs": [],
   "execution_count": null
  },
  {
   "id": "ecb2743f-7759-4ead-ac95-450ddd77fb0b",
   "cell_type": "markdown",
   "source": "#### Exemplo de gráfico que não agrega",
   "metadata": {}
  },
  {
   "id": "f88e7ac1-c2f8-479f-864c-3d0bd99c0e75",
   "cell_type": "code",
   "source": [
    "#gerar gráfico idade e dependentes\n",
    "plt.figure(figsize=(8, 6))\n",
    "sns.scatterplot(x=\"Idade\", y=\"Dependentes\", hue=\"Indicador\", data=df3)\n",
    "plt.title(\"Relação entre  Idade e Dependentes por Indicador de Evasão\")\n",
    "plt.xlabel(\"Idade\")\n",
    "plt.ylabel(\"Dependentes\")\n",
    "plt.show()"
   ],
   "metadata": {
    "trusted": true
   },
   "outputs": [],
   "execution_count": null
  },
  {
   "id": "7728a529-aaa6-4686-8a25-8bdabc63fa13",
   "cell_type": "code",
   "source": [
    "# menos dependentes: maior amplitude de idade, qt maior o num de dependentes, fica mais junto\n",
    "plt.figure(figsize=(10, 7))\n",
    "sns.boxplot(data=df3, y=\"Idade\", x=\"Dependentes\")  # hue=\"Indicador\")"
   ],
   "metadata": {
    "trusted": true
   },
   "outputs": [],
   "execution_count": null
  },
  {
   "id": "ZvequEqRAnpm",
   "cell_type": "code",
   "source": [
    "plt.figure(figsize=(8, 6))\n",
    "sns.heatmap(df3[[\"Idade\", \"Dependentes\", \"Limite_Credito\"]].corr(), annot=True)\n",
    "plt.show()\n",
    "\n",
    "# Um heatmap de correlação no Seaborn é uma visualização gráfica que mostra a matriz de correlação entre várias variáveis de um conjunto de dados.\n",
    "# Cada célula do heatmap representa o coeficiente de correlação entre duas variáveis, com a intensidade da cor indicando a força e a direção da correlação (positiva ou negativa).\n",
    "# Esse tipo de gráfico é extremamente útil para identificar rapidamente relações significativas entre variáveis, facilitando a análise exploratória e a seleção de características para modelos de machine learning. Além disso, o Seaborn permite adicionar anotações e ajustar a paleta de cores para melhorar a interpretação dos dados."
   ],
   "metadata": {
    "colab": {
     "base_uri": "https://localhost:8080/",
     "height": 435
    },
    "id": "ZvequEqRAnpm",
    "outputId": "eff6c721-b101-495f-df4d-0d00822fa50c",
    "trusted": true
   },
   "outputs": [],
   "execution_count": null
  },
  {
   "id": "71d94ee5-9a3b-4b94-80c3-d9e6fc04c553",
   "cell_type": "markdown",
   "source": "## Transformações",
   "metadata": {}
  },
  {
   "id": "CeZcPWkMAnr7",
   "cell_type": "code",
   "source": [
    "#nova variável onde genero m = 1 e genero f = 0\n",
    "df3[\"Genero_Num\"] = df3[\"Genero\"].apply(lambda x: 1 if x == \"M\" else 0)\n",
    "df3.Genero_Num.value_counts()"
   ],
   "metadata": {
    "colab": {
     "base_uri": "https://localhost:8080/",
     "height": 178
    },
    "id": "CeZcPWkMAnr7",
    "outputId": "2f622e7c-3c18-4014-dd51-8bebd12d5197",
    "trusted": true
   },
   "outputs": [],
   "execution_count": null
  },
  {
   "id": "9gluHreVAnyq",
   "cell_type": "code",
   "source": "df3.info()",
   "metadata": {
    "colab": {
     "base_uri": "https://localhost:8080/"
    },
    "id": "9gluHreVAnyq",
    "outputId": "c3185720-fc1e-4c7f-fcc7-a19a835c039b",
    "trusted": true
   },
   "outputs": [],
   "execution_count": null
  },
  {
   "id": "f76698bc-d99c-4625-9f0b-34bea952e8fc",
   "cell_type": "markdown",
   "source": "### Categóricas",
   "metadata": {}
  },
  {
   "id": "AELCUBE3LIaO",
   "cell_type": "markdown",
   "source": "A função get_dummies do Pandas é usada para converter variáveis categóricas em variáveis dummy ou indicadores, que são representações numéricas (0 e 1) das categorias. Isso é especialmente útil em análises estatísticas e modelos de machine learning, onde os algoritmos geralmente requerem entradas numéricas.\n\nPor que usar get_dummies?\n\nPreparação de Dados: Transforma dados categóricos em um formato que pode ser facilmente utilizado por algoritmos de machine learning.\n\nEvita Problemas de Ordinalidade: Ao converter categorias em variáveis dummy, evita-se a interpretação errônea de que há uma ordem ou hierarquia entre as categorias.\n\nFacilita a Análise: Permite a inclusão de variáveis categóricas em análises estatísticas e modelos preditivos sem a necessidade de codificação manual.",
   "metadata": {
    "id": "AELCUBE3LIaO"
   }
  },
  {
   "id": "vZE7RyQhAn0y",
   "cell_type": "code",
   "source": [
    "# criar dummies da escolaridade, estado civil e renda\n",
    "\n",
    "# Criando dummies para a variável Escolaridade\n",
    "df_dummies_escolaridade = pd.get_dummies(df3[\"Escolaridade\"], prefix=\"Escolaridade\")\n",
    "\n",
    "# Criando dummies para a variável Estado_Civil\n",
    "df_dummies_estado_civil = pd.get_dummies(df3[\"Estado_Civil\"], prefix=\"Estado_Civil\")\n",
    "\n",
    "# Criando dummies para a variável Estado_Civil\n",
    "df_dummies_renda = pd.get_dummies(df3[\"Renda\"], prefix=\"Renda\")\n",
    "\n",
    "# Concatenando as dummies ao DataFrame original\n",
    "df3 = pd.concat([df3, df_dummies_escolaridade, df_dummies_estado_civil, df_dummies_renda], axis=1)\n",
    "\n",
    "# Exibindo as primeiras linhas do DataFrame com as dummies\n",
    "df3.head()"
   ],
   "metadata": {
    "colab": {
     "base_uri": "https://localhost:8080/",
     "height": 481
    },
    "id": "vZE7RyQhAn0y",
    "outputId": "b63c7399-1f2b-49f7-869d-db702dccef0c",
    "trusted": true
   },
   "outputs": [],
   "execution_count": null
  },
  {
   "id": "DWuljbLxAn3J",
   "cell_type": "code",
   "source": "df3.info()",
   "metadata": {
    "colab": {
     "base_uri": "https://localhost:8080/"
    },
    "id": "DWuljbLxAn3J",
    "outputId": "c532efca-ec95-4192-882c-736d3a48f326",
    "trusted": true
   },
   "outputs": [],
   "execution_count": null
  },
  {
   "id": "ATMiQrJLKjWO",
   "cell_type": "code",
   "source": "df3.describe()",
   "metadata": {
    "colab": {
     "base_uri": "https://localhost:8080/",
     "height": 384
    },
    "id": "ATMiQrJLKjWO",
    "outputId": "a6875e52-14c3-4079-eef7-d0c453a8d5bc",
    "trusted": true
   },
   "outputs": [],
   "execution_count": null
  },
  {
   "id": "87601944-0aaa-47f0-aac4-79ad023293f0",
   "cell_type": "markdown",
   "source": "### Transformação de dados numéricos",
   "metadata": {}
  },
  {
   "id": "Lt35tSPCOiU4",
   "cell_type": "markdown",
   "source": "Normalizar os dados é uma etapa crucial em ciência de dados por várias razões:\n\nConsistência: Normalizar os dados ajuda a garantir que todas as variáveis estejam na mesma escala, o que é especialmente importante para algoritmos que dependem da distância entre pontos, como K-means e K-Nearest Neighbors.\n\nVelocidade de Convergência: Em algoritmos de aprendizado de máquina, como redes neurais, a normalização pode acelerar a convergência durante o treinamento, tornando o processo mais eficiente.\n\nMelhor Desempenho: Modelos de aprendizado de máquina geralmente têm um desempenho melhor quando os dados são normalizados, pois isso evita que variáveis com escalas maiores dominem o modelo.\n\nRedução de Erros: A normalização pode ajudar a reduzir erros numéricos durante os cálculos, especialmente em algoritmos que envolvem operações matriciais.",
   "metadata": {
    "id": "Lt35tSPCOiU4"
   }
  },
  {
   "id": "e744c7b9-2e51-4992-9650-8c34ffbe7c95",
   "cell_type": "markdown",
   "source": "* Escalas diferentes influenciam os algoritmos de forma diferente, dando mais peso para 1 que outro.",
   "metadata": {}
  },
  {
   "id": "24cd4465-62db-46be-a6b4-4f4ec2776a2b",
   "cell_type": "markdown",
   "source": "https://scikit-learn.org/dev/modules/generated/sklearn.preprocessing.MinMaxScaler.html",
   "metadata": {}
  },
  {
   "id": "2862f19b-dd10-47ca-9900-1061d73ccfec",
   "cell_type": "markdown",
   "source": "#### MinMax scaler",
   "metadata": {}
  },
  {
   "id": "004bd5b8-6cd0-4734-b790-e8d50f95ced8",
   "cell_type": "code",
   "source": [
    "# exemplo do minmax scaler\n",
    "idade_max = df3.Idade.max()\n",
    "idade_min = df3.Idade.min()\n",
    "\n",
    "df3[\"Idade_SC_\"] = (df3[\"Idade\"] - idade_min) / (idade_max - idade_min)"
   ],
   "metadata": {
    "trusted": true
   },
   "outputs": [],
   "execution_count": null
  },
  {
   "id": "24db6761-22c9-4f1c-b4da-382ef650c5a7",
   "cell_type": "code",
   "source": [
    "# normalizar idade, dependentes e limite_credito\n",
    "from sklearn.preprocessing import MinMaxScaler\n",
    "\n",
    "# Crie um objeto StandardScaler\n",
    "scaler = MinMaxScaler()\n",
    "\n",
    "# Selecione as colunas que você deseja escalonar\n",
    "cols_to_scale = [\"Idade\", \"Dependentes\", \"Limite_Credito\"]\n",
    "cols_scaled = [\"Idade_SC\", \"Dependentes_SC\", \"Limite_Credito_SC\"]\n",
    "\n",
    "# Aplique o StandardScaler às colunas selecionadas\n",
    "df3[cols_scaled] = scaler.fit_transform(df3[cols_to_scale])\n",
    "\n",
    "# Exiba as primeiras linhas do DataFrame com as colunas escalonadas\n",
    "df3.head()"
   ],
   "metadata": {
    "trusted": true
   },
   "outputs": [],
   "execution_count": null
  },
  {
   "id": "3a596a26-2a20-4feb-87ad-86d915254f7d",
   "cell_type": "code",
   "source": "df3[[\"Idade\", \"Idade_SC\", \"Idade_SC_\"]]",
   "metadata": {
    "trusted": true
   },
   "outputs": [],
   "execution_count": null
  },
  {
   "id": "0701c11b-8185-463f-be4f-fde2736f625c",
   "cell_type": "markdown",
   "source": "## Live 3",
   "metadata": {}
  },
  {
   "id": "444911fd-1fab-491c-819d-f12768cf9534",
   "cell_type": "markdown",
   "source": "**Relembrando:** Nossa base de dados é de um banco e possui informações de utilização de cartão de crédito. \n- Mas cada cliente possui características pessoais e comportamento de utilização de crédito distintos\n- Para visualizar melhor essas diferenças, podemos pensar em agrupar nossos clientes em perfis distintos",
   "metadata": {}
  },
  {
   "id": "248a46e2-d817-409f-a613-537f4af0a946",
   "cell_type": "markdown",
   "source": "#### Vamos começar salvando os dados que vamos utilizar com outros nomes ",
   "metadata": {}
  },
  {
   "id": "67bcbf0f-f692-4679-9ee2-afb78aed3487",
   "cell_type": "code",
   "source": [
    "# Seleciona as colunas originais\n",
    "dados_numericos = df3[[\"Idade\", \"Dependentes\", \"Limite_Credito\"]].copy()\n",
    "dados_numericos.head()"
   ],
   "metadata": {
    "trusted": true
   },
   "outputs": [],
   "execution_count": null
  },
  {
   "id": "ccc20530-dc50-4158-9843-4bbb2e78e17e",
   "cell_type": "code",
   "source": [
    "# Verificando a distribuição desses dados\n",
    "dados_numericos.describe()"
   ],
   "metadata": {
    "trusted": true
   },
   "outputs": [],
   "execution_count": null
  },
  {
   "id": "f404b08e-f06f-4794-ad24-ae730dccae5f",
   "cell_type": "code",
   "source": [
    "# Seleciona as colunas normalizadas\n",
    "dados_numericos_normalizados = df3[[\"Idade_SC\", \"Dependentes_SC\", \"Limite_Credito_SC\"]].copy()"
   ],
   "metadata": {
    "trusted": true
   },
   "outputs": [],
   "execution_count": null
  },
  {
   "id": "43871e67-4348-4390-9bc3-5dc34f7bfa30",
   "cell_type": "code",
   "source": [
    "# Verificando a distribuição dos dados normalizados\n",
    "dados_numericos_normalizados.describe()"
   ],
   "metadata": {
    "trusted": true
   },
   "outputs": [],
   "execution_count": null
  },
  {
   "id": "4b1a3cdb-62a8-4be5-900b-e3a45b2fddb1",
   "cell_type": "markdown",
   "source": "#### Vamos utilizar o KMeans criando quatro clusters a partir dos nossos dados",
   "metadata": {}
  },
  {
   "id": "ec44a8e3-356c-4c41-a8b2-131b05925617",
   "cell_type": "code",
   "source": "from sklearn.cluster import KMeans",
   "metadata": {
    "trusted": true
   },
   "outputs": [],
   "execution_count": null
  },
  {
   "id": "ed0321d3-c623-48bc-ac6e-0179068a60a3",
   "cell_type": "code",
   "source": [
    "#Iniciando o algoritmo com os parâmetros escolhidos\n",
    "kmeans = KMeans(n_clusters=4,  init=\"k-means++\", n_init=10, max_iter=300, random_state=12345)"
   ],
   "metadata": {
    "trusted": true
   },
   "outputs": [],
   "execution_count": null
  },
  {
   "id": "91e03a8c-c187-40cb-80aa-eea55da1d497",
   "cell_type": "markdown",
   "source": [
    "- init=\"k-means++\": inicializa os centróides dos clusters para acelerar a convergência do algoritmo.\n",
    "- n_init=10: especifica o número de vezes que o algoritmo K-means será executado com diferentes centróides iniciais. Executar o algoritmo várias vezes ajuda a evitar resultados ruins devido a uma má inicialização dos centroides.\n",
    "- max_iter=300: define o número máximo de iterações do algoritmo K-means para uma única execução. O valor 300 que é o padrão é um bom valor para garantir que o algoritmo já tenha convergido ao finalizar uma execução => Cada uma das 10 execuções do algoritmo pode realizar até 300 iterações para tentar convergir.\n",
    "- random_state=12345: garante que os resultados sejam os mesmos em execuções diferentes do algoritmo. Controla a semente do gerador de números aleatórios usado para inicializar os centros dos clusters. Isso permite a reprodutibilidade dos resultados. "
   ],
   "metadata": {}
  },
  {
   "id": "f2777294-17d5-4f40-8ccc-3393e5f0bdc7",
   "cell_type": "code",
   "source": "clusters = kmeans.fit_predict(dados_numericos_normalizados) ",
   "metadata": {
    "trusted": true
   },
   "outputs": [],
   "execution_count": null
  },
  {
   "id": "02e07473-ba64-4825-b890-b6306d30c238",
   "cell_type": "code",
   "source": "np.unique(clusters)",
   "metadata": {
    "trusted": true
   },
   "outputs": [],
   "execution_count": null
  },
  {
   "id": "6a468b76-1e6b-4851-a6fc-8c4422d83141",
   "cell_type": "markdown",
   "source": "#### **Atenção:** Se no seu banco de dados tiver muitas variáveis categóricas importantes para a sua análise, sugere-se a utilização de outros algoritmos: **K-Medoids** ou **K-Prototypes**",
   "metadata": {}
  },
  {
   "id": "77202232-b37b-40be-a5b9-a857c0c6c207",
   "cell_type": "markdown",
   "source": "#### Devemos mesmo permanecer com quatro clusters?\n#### Vamos utilizar o método do cotovelo e verificar outras quantidades de cluster",
   "metadata": {}
  },
  {
   "id": "23f3abe8-41be-46ff-990f-c395f4edd037",
   "cell_type": "code",
   "source": [
    "import matplotlib.pyplot as plt\n",
    "\n",
    "# Calcular WCSS para diferentes números de clusters\n",
    "wcss = []\n",
    "\n",
    "for i in range(1, 11):\n",
    "    kmeans = KMeans(n_clusters=i, init=\"k-means++\", max_iter=300, n_init=10, random_state=12345)\n",
    "    kmeans.fit(dados_numericos_normalizados)\n",
    "    wcss.append(kmeans.inertia_)\n",
    "\n",
    "# Plotar o gráfico do método do cotovelo\n",
    "plt.plot(range(1, 11), wcss)\n",
    "plt.title(\"Método do Cotovelo\")\n",
    "plt.xlabel(\"Número de clusters\")\n",
    "plt.ylabel(\"WCSS\")\n",
    "plt.xticks(range(1, 11))  # Definir os xticks de 1 em 1\n",
    "plt.show()"
   ],
   "metadata": {
    "trusted": true
   },
   "outputs": [],
   "execution_count": null
  },
  {
   "id": "c3f3f410-527f-4fb7-a132-b697aff0a8c9",
   "cell_type": "markdown",
   "source": "#### Calculando a métrica de silhouette (de -1 até 1) para os 4 clusters iniciais",
   "metadata": {}
  },
  {
   "id": "4aea0b2d-20af-4270-aa75-55f6e3d93c95",
   "cell_type": "code",
   "source": "from sklearn import metrics",
   "metadata": {
    "trusted": true
   },
   "outputs": [],
   "execution_count": null
  },
  {
   "id": "914d49e1-f83d-4fa1-b248-a135d7654624",
   "cell_type": "code",
   "source": [
    "silhouette = metrics.silhouette_score(dados_numericos_normalizados, clusters, metric=\"euclidean\")\n",
    "\n",
    "# Outras métricas de avaliação de cluster: davies_bouldin_score, calinski_harabasz_score"
   ],
   "metadata": {
    "trusted": true
   },
   "outputs": [],
   "execution_count": null
  },
  {
   "id": "6ef50fbd-d5ff-426f-9f4f-58fda3966eea",
   "cell_type": "code",
   "source": "print(silhouette)",
   "metadata": {
    "trusted": true
   },
   "outputs": [],
   "execution_count": null
  },
  {
   "id": "393574d5-3cb5-4cfd-934b-54b97f895a32",
   "cell_type": "markdown",
   "source": "#### Vamos realizar uma análise auxiliar da melhor quantidade de clusters. \n#### Vamos verificar os coeficientes de silhouette para 3, 4 e 5 clusters:",
   "metadata": {}
  },
  {
   "id": "551c7d14-44a5-4f45-a6cf-6e2388b39ac3",
   "cell_type": "code",
   "source": [
    "kmeans_3 = KMeans(n_clusters=3, init=\"k-means++\", n_init=10, max_iter=300, random_state=12345)\n",
    "clusters_3 = kmeans_3.fit_predict(dados_numericos_normalizados) \n",
    "silhouette_3 = metrics.silhouette_score(dados_numericos_normalizados, clusters_3, metric=\"euclidean\")\n",
    "print(silhouette_3) "
   ],
   "metadata": {
    "trusted": true
   },
   "outputs": [],
   "execution_count": null
  },
  {
   "id": "1c55e067-b2f2-42e3-893f-5dd7cc1b4cde",
   "cell_type": "code",
   "source": [
    "kmeans_4 = KMeans(n_clusters=4, init=\"k-means++\", n_init=10, max_iter=300, random_state=12345)\n",
    "clusters_4 = kmeans_4.fit_predict(dados_numericos_normalizados) \n",
    "silhouette_4 = metrics.silhouette_score(dados_numericos_normalizados, clusters_4, metric=\"euclidean\")\n",
    "print(silhouette_4) "
   ],
   "metadata": {
    "trusted": true
   },
   "outputs": [],
   "execution_count": null
  },
  {
   "id": "5129ad95-802c-4d49-925d-b88cb38e3bcc",
   "cell_type": "code",
   "source": [
    "kmeans_5 = KMeans(n_clusters=5, init=\"k-means++\", n_init=10, max_iter=300, random_state=12345)\n",
    "clusters_5 = kmeans_5.fit_predict(dados_numericos_normalizados) \n",
    "silhouette_5 = metrics.silhouette_score(dados_numericos_normalizados, clusters_5, metric=\"euclidean\")\n",
    "print(silhouette_5) "
   ],
   "metadata": {
    "trusted": true
   },
   "outputs": [],
   "execution_count": null
  },
  {
   "id": "67adc59b-78bb-441b-8156-5d26447aa09a",
   "cell_type": "markdown",
   "source": "#### Agora que decidimos que vamos permanecer com 4 clusters. Vamos interpretá-los a partir das variáveis utilizadas em sua criação. \n#### Essa etapa é conhecida como \"Perfilamento dos clusters\"",
   "metadata": {}
  },
  {
   "id": "266e2796-3bdb-4241-b332-91e77f2339e7",
   "cell_type": "markdown",
   "source": "#### Salvando os clusters como uma coluna no nosso dataframe original (sem ser o normalizado)",
   "metadata": {}
  },
  {
   "id": "52390edd-dd31-45b3-b466-59763bb86e75",
   "cell_type": "code",
   "source": "dados_numericos.loc[:, \"clusters\"] = clusters",
   "metadata": {
    "trusted": true
   },
   "outputs": [],
   "execution_count": null
  },
  {
   "id": "63119a38-b0a3-4f97-8c56-222ac6b4968f",
   "cell_type": "code",
   "source": "dados_numericos.head()",
   "metadata": {
    "trusted": true
   },
   "outputs": [],
   "execution_count": null
  },
  {
   "id": "8868cd12-7315-4732-9d1f-87b1178d196b",
   "cell_type": "markdown",
   "source": "#### Primeiro, vamos verificar os tamanhos dos clusters por percentual da base total",
   "metadata": {}
  },
  {
   "id": "8765fd0c-f6b7-42e2-b116-f05eb1e48f9b",
   "cell_type": "code",
   "source": "dados_numericos[\"clusters\"].value_counts(normalize=True).sort_index()",
   "metadata": {
    "trusted": true
   },
   "outputs": [],
   "execution_count": null
  },
  {
   "id": "c49ef502-022e-4dee-be41-135d2b799a22",
   "cell_type": "markdown",
   "source": "- Cluster 0: Representa 1 a cada 5 clientes \n- CLuster 1: Representa a maior quantidade de clientes\n- Cluster 2: Representa a menor quantidade de clientes \n- Cluster 3: Representa cerca de 27% dos clientes ",
   "metadata": {}
  },
  {
   "id": "020680b6-9f9f-4052-8bb1-ae20774bda23",
   "cell_type": "markdown",
   "source": "#### Vamos verificar graficamente a distribuição dos clusters entre duas variáveis explicativas",
   "metadata": {}
  },
  {
   "id": "99e22cf3-ccba-4701-a72f-0a37ee71c9f1",
   "cell_type": "code",
   "source": [
    "import matplotlib.pyplot as plt\n",
    "\n",
    "# Criar o gráfico de pontos\n",
    "plt.figure(figsize=(10, 6))\n",
    "scatter = plt.scatter(dados_numericos[\"Idade\"], dados_numericos[\"Limite_Credito\"], c=dados_numericos[\"clusters\"], cmap=\"viridis\", alpha=0.6)\n",
    "\n",
    "# Adicionar legenda\n",
    "legend1 = plt.legend(*scatter.legend_elements(), title=\"Clusters\")\n",
    "plt.gca().add_artist(legend1)\n",
    "\n",
    "# Adicionar títulos e rótulos\n",
    "plt.title(\"Limite de Crédito do Cartão x Idade dos Clientes\")\n",
    "plt.xlabel(\"Idade dos Clientes\")\n",
    "plt.ylabel(\"Limite de Crédito do Cartão\")\n",
    "\n",
    "# Mostrar o gráfico\n",
    "plt.show()"
   ],
   "metadata": {
    "trusted": true
   },
   "outputs": [],
   "execution_count": null
  },
  {
   "id": "2aea3a43-89fa-4f48-8d92-03ac459e1f5b",
   "cell_type": "markdown",
   "source": "- Cluster 0: Clientes mais novos com baixo limite de crédito\n- Cluster 1: Clientes com baixo limite de crédito\n- Cluster 2: Clientes com alto limite de crédito \n- Cluster 3: Clientes mais velhos com baixo limite de crédito ",
   "metadata": {}
  },
  {
   "id": "f41619ff-6f11-4661-93f8-30f3f90053ed",
   "cell_type": "markdown",
   "source": "#### Vamos analisar a última variável utilizando a média dela por cluster",
   "metadata": {}
  },
  {
   "id": "aa16e64d-151c-4117-b9c4-d6411416f171",
   "cell_type": "code",
   "source": "dados_numericos.groupby(\"clusters\")[\"Dependentes\"].mean().sort_index()",
   "metadata": {
    "trusted": true
   },
   "outputs": [],
   "execution_count": null
  },
  {
   "id": "56e9d87e-9a4d-4720-9249-96bb96c790cd",
   "cell_type": "markdown",
   "source": "- Cluster 0: Clientes com poucos dependentes\n- Cluster 1: Clientes com a maior quantidade de dependentes \n- Cluster 2: Clientes com uma boa quantidade de dependentes \n- Cluster 3: Clientes com a menor quantidade de dependentes ",
   "metadata": {}
  },
  {
   "id": "584a195c-4b60-44ab-a682-3d2740bc9a59",
   "cell_type": "markdown",
   "source": "#### Conclusão da caracterização/interpretação dos clusters ",
   "metadata": {}
  },
  {
   "id": "552d7c04-2d62-47d1-93d2-5c114590cd61",
   "cell_type": "markdown",
   "source": [
    "- Cluster 0: Clientes mais novos com baixo limite de crédito e poucos dependentes<br>\n",
    "- Cluster 1: Representa a maior quantidade de clientes. Cliente com muitos dependentes e com baixo limite de crédito<br>\n",
    "- Cluster 2: Representa a menor quantidade de clientes. Clientes com uma boa quantidade de dependentes e com alto limite de crédito<br>\n",
    "- Cluster 3: Clientes mais velhos com poucos dependentes e com baixo limite de crédito.<br>"
   ],
   "metadata": {}
  },
  {
   "id": "1ab3a84c-07fa-4c50-b1aa-b51bc663a857",
   "cell_type": "markdown",
   "source": [
    "**Estratégia 1:** Aumentar as vendas no shopping BB<br>\n",
    "**Público alvo:** Cluster 2, pois possuem alto limite de crédito. Esse cluster também possui uma boa quantidade de dependentes, pode se fazer uma pesquisa da média da distribuição de idade desses dependentes. Se a gente estiver falando de muitas crianças, pode-se propor que o shopping BB faça uma parceria com empresa que vende artigos infantis. "
   ],
   "metadata": {}
  },
  {
   "id": "3e776633-1e9b-4381-96ac-33c792e4eeae",
   "cell_type": "markdown",
   "source": [
    "**Estratégia 2:** Promover uma maior utilização do cartão de crédito entre os jovens<br>\n",
    "**Público alvo:** Cluster 0, representa pessoas jovens com poucos dependentes. Pode-se fazer um cartão que seja mais a cara dos jovens. Pode-se pensar em um aumento de limite de crédito para aqueles que são bons pagadores. E se aumentarmos o cashback do cartão para esse público, irá encorajá-los a usar mais o cartão?"
   ],
   "metadata": {}
  }
 ]
}
